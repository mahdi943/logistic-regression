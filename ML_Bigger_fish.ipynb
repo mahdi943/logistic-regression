{
  "nbformat": 4,
  "nbformat_minor": 0,
  "metadata": {
    "colab": {
      "provenance": [],
      "collapsed_sections": [],
      "mount_file_id": "1HhK1b2icoEYr1fCr1atAs026lMq6_4c_",
      "authorship_tag": "ABX9TyP4N9VNGLKMPKXkMPvhyz8P",
      "include_colab_link": true
    },
    "kernelspec": {
      "name": "python3",
      "display_name": "Python 3"
    },
    "language_info": {
      "name": "python"
    }
  },
  "cells": [
    {
      "cell_type": "markdown",
      "metadata": {
        "id": "view-in-github",
        "colab_type": "text"
      },
      "source": [
        "<a href=\"https://colab.research.google.com/github/mahdi943/logistic-regression/blob/master/ML_Bigger_fish.ipynb\" target=\"_parent\"><img src=\"https://colab.research.google.com/assets/colab-badge.svg\" alt=\"Open In Colab\"/></a>"
      ]
    },
    {
      "cell_type": "markdown",
      "source": [
        "# Installing pyspark\n"
      ],
      "metadata": {
        "id": "UnpUZg6-WED3"
      }
    },
    {
      "cell_type": "code",
      "execution_count": null,
      "metadata": {
        "id": "NdwBTtT_Ms4p"
      },
      "outputs": [],
      "source": [
        "!apt-get update\n",
        "!apt-get install openjdk-8-jdk-headless -qq > /dev/null\n",
        "import os\n",
        "os.environ[\"JAVA_HOME\"] = \"/usr/lib/jvm/java-8-openjdk-amd64\"\n",
        "!update-alternatives --set java /usr/lib/jvm/java-8-openjdk-amd64/jre/bin/java\n",
        "!java -version\n",
        "!pip install pyspark"
      ]
    },
    {
      "cell_type": "markdown",
      "source": [
        "#Importing required libs "
      ],
      "metadata": {
        "id": "eqzfEKeLO286"
      }
    },
    {
      "cell_type": "code",
      "source": [
        "from pyspark.ml.tuning import ParamGridBuilder\n",
        "from pyspark.sql.functions import UserDefinedFunction\n",
        "from pyspark.sql.types import StringType\n",
        "from pyspark.ml.feature import VectorAssembler,StringIndexer,OneHotEncoder,PCA\n",
        "from pyspark.ml.evaluation import MulticlassClassificationEvaluator\n",
        "from pyspark.ml.classification import RandomForestClassifier\n",
        "from pyspark.ml.tuning import CrossValidator,ParamGridBuilder\n",
        "from pyspark.sql import SparkSession\n",
        "from pyspark.sql.functions import *"
      ],
      "metadata": {
        "id": "d5xgKeOpImnO"
      },
      "execution_count": null,
      "outputs": []
    },
    {
      "cell_type": "markdown",
      "source": [
        "#Reading csv file "
      ],
      "metadata": {
        "id": "1-knL5GiOG4R"
      }
    },
    {
      "cell_type": "code",
      "source": [
        "from pyspark.sql import SparkSession \n",
        "\n",
        "spark = SparkSession.builder.getOrCreate()\n",
        "mpgDF= spark.read.option(\"header\",\"true\").csv(\"/content/drive/MyDrive/Colab Notebooks/dataset/dataset-1.csv\")\n",
        "# mpgDF.show(10)\n"
      ],
      "metadata": {
        "id": "mzunA6gRNEm0"
      },
      "execution_count": null,
      "outputs": []
    },
    {
      "cell_type": "markdown",
      "source": [
        "# Convert string to float"
      ],
      "metadata": {
        "id": "-z6eHAGzWQ7I"
      }
    },
    {
      "cell_type": "code",
      "source": [
        "from pyspark.sql.functions import col\n",
        "\n",
        "#Drop null values(row)\n",
        "df = mpgDF.na.drop()\n",
        "df = df.select(*(col(c).cast(\"float\").alias(c) for c in df.columns))\n",
        "# df.show(10)\n"
      ],
      "metadata": {
        "id": "e-LIMMujQ3Ai"
      },
      "execution_count": null,
      "outputs": []
    },
    {
      "cell_type": "markdown",
      "source": [
        "# Transform to VectorAssembler as features"
      ],
      "metadata": {
        "id": "XY9o4qIlWWkk"
      }
    },
    {
      "cell_type": "code",
      "source": [
        "dfVEC =  VectorAssembler(inputCols=df.columns[1:621], outputCol='features')\n",
        "df = dfVEC.transform(df)\n",
        "\n",
        "df = df.select('features','label')\n",
        "df.show(5)"
      ],
      "metadata": {
        "colab": {
          "base_uri": "https://localhost:8080/"
        },
        "id": "EgvB1b8LeBBX",
        "outputId": "007426f4-3814-4961-e1c4-3b6436f1368b"
      },
      "execution_count": null,
      "outputs": [
        {
          "output_type": "stream",
          "name": "stdout",
          "text": [
            "+--------------------+-----+\n",
            "|            features|label|\n",
            "+--------------------+-----+\n",
            "|[23867.0,18724.0,...|  0.0|\n",
            "|[24435.0,24182.0,...|  0.0|\n",
            "|[19578.0,18170.0,...|  0.0|\n",
            "|[26331.0,14766.0,...|  0.0|\n",
            "|[20955.0,25040.0,...|  0.0|\n",
            "+--------------------+-----+\n",
            "only showing top 5 rows\n",
            "\n"
          ]
        }
      ]
    },
    {
      "cell_type": "markdown",
      "source": [
        "# Random splitting data to 70% train and 30% test "
      ],
      "metadata": {
        "id": "AnyJaXzbWmcm"
      }
    },
    {
      "cell_type": "code",
      "source": [
        "\n",
        "from pyspark.ml.classification import LogisticRegression\n",
        "\n",
        "train, test = df.randomSplit([0.7, 0.3], seed = 2018)\n",
        "print(\"Training Dataset Count: \" + str(train.count()))\n",
        "print(\"Test Dataset Count: \" + str(test.count()))\n",
        "\n",
        "lr = LogisticRegression(featuresCol = 'features', labelCol = 'label', maxIter=10)\n",
        "lrModel = lr.fit(train)"
      ],
      "metadata": {
        "colab": {
          "base_uri": "https://localhost:8080/"
        },
        "id": "ohklgmqYUvFQ",
        "outputId": "736deed0-043b-4593-d343-050c72a65cc3"
      },
      "execution_count": null,
      "outputs": [
        {
          "output_type": "stream",
          "name": "stdout",
          "text": [
            "Training Dataset Count: 136\n",
            "Test Dataset Count: 64\n"
          ]
        }
      ]
    },
    {
      "cell_type": "code",
      "source": [
        "import matplotlib.pyplot as plt\n",
        "import numpy as np\n",
        "beta = np.sort(lrModel.coefficients)\n",
        "plt.plot(beta)\n",
        "plt.ylabel('Beta Coefficients')\n",
        "plt.show()"
      ],
      "metadata": {
        "colab": {
          "base_uri": "https://localhost:8080/",
          "height": 276
        },
        "id": "KWATXS62VBBr",
        "outputId": "631d3692-f368-4ed3-a899-413b9ea025f4"
      },
      "execution_count": null,
      "outputs": [
        {
          "output_type": "display_data",
          "data": {
            "text/plain": [
              "<Figure size 432x288 with 1 Axes>"
            ],
            "image/png": "[encoded data removed]"
          },
          "metadata": {
            "needs_background": "light"
          }
        }
      ]
    },
    {
      "cell_type": "code",
      "source": [
        "trainingSummary = lrModel.summary\n",
        "roc = trainingSummary.roc.toPandas()\n",
        "plt.plot(roc['FPR'],roc['TPR'])\n",
        "plt.ylabel('False Positive Rate')\n",
        "plt.xlabel('True Positive Rate')\n",
        "plt.title('ROC Curve')\n",
        "plt.show()\n",
        "print('Training set areaUnderROC: ' + str(trainingSummary.areaUnderROC))"
      ],
      "metadata": {
        "colab": {
          "base_uri": "https://localhost:8080/",
          "height": 312
        },
        "id": "NJ0NlwUIVJRu",
        "outputId": "740e057f-9f0f-4913-f25c-e5e3d699fd3d"
      },
      "execution_count": null,
      "outputs": [
        {
          "output_type": "display_data",
          "data": {
            "text/plain": [
              "<Figure size 432x288 with 1 Axes>"
            ],
            "image/png": "[encoded data removed]"
          },
          "metadata": {
            "needs_background": "light"
          }
        },
        {
          "output_type": "stream",
          "name": "stdout",
          "text": [
            "Training set areaUnderROC: 1.0\n"
          ]
        }
      ]
    },
    {
      "cell_type": "code",
      "source": [
        "pr = trainingSummary.pr.toPandas()\n",
        "plt.plot(pr['recall'],pr['precision'])\n",
        "plt.ylabel('Precision')\n",
        "plt.xlabel('Recall')\n",
        "plt.show()"
      ],
      "metadata": {
        "colab": {
          "base_uri": "https://localhost:8080/",
          "height": 279
        },
        "id": "oqNUHYwyVOel",
        "outputId": "f37bffd5-eb85-4424-a1b2-b302f8651c9c"
      },
      "execution_count": null,
      "outputs": [
        {
          "output_type": "display_data",
          "data": {
            "text/plain": [
              "<Figure size 432x288 with 1 Axes>"
            ],
            "image/png": "[encoded data removed]"
          },
          "metadata": {
            "needs_background": "light"
          }
        }
      ]
    },
    {
      "cell_type": "code",
      "source": [
        "predictions = lrModel.transform(test)\n",
        "predictions.select('label',  'features').show(10)"
      ],
      "metadata": {
        "colab": {
          "base_uri": "https://localhost:8080/"
        },
        "id": "wSwFWg3WVRYP",
        "outputId": "5c40eaac-3f73-4eb9-9e90-925134cc9a02"
      },
      "execution_count": null,
      "outputs": [
        {
          "output_type": "stream",
          "name": "stdout",
          "text": [
            "+-----+--------------------+\n",
            "|label|            features|\n",
            "+-----+--------------------+\n",
            "|  1.0|[11882.0,20515.0,...|\n",
            "|  1.0|[13215.0,17000.0,...|\n",
            "|  0.0|[13867.0,21802.0,...|\n",
            "|  0.0|[14022.0,18582.0,...|\n",
            "|  1.0|[14345.0,16309.0,...|\n",
            "|  1.0|[14726.0,21924.0,...|\n",
            "|  1.0|[15297.0,18250.0,...|\n",
            "|  0.0|[16145.0,21869.0,...|\n",
            "|  0.0|[16358.0,14782.0,...|\n",
            "|  1.0|[16367.0,15594.0,...|\n",
            "+-----+--------------------+\n",
            "only showing top 10 rows\n",
            "\n"
          ]
        }
      ]
    },
    {
      "cell_type": "code",
      "source": [
        "from pyspark.ml.evaluation import BinaryClassificationEvaluator\n",
        "evaluator = BinaryClassificationEvaluator()\n",
        "print('Test Area Under ROC', evaluator.evaluate(predictions))"
      ],
      "metadata": {
        "colab": {
          "base_uri": "https://localhost:8080/"
        },
        "id": "ldWfFpZvVn1N",
        "outputId": "0ea57132-ac9a-4a00-c8c2-33af8aa55567"
      },
      "execution_count": null,
      "outputs": [
        {
          "output_type": "stream",
          "name": "stdout",
          "text": [
            "Test Area Under ROC 0.9765395894428153\n"
          ]
        }
      ]
    }
  ]
}